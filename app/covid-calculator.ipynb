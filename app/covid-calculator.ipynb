{
 "cells": [
  {
   "cell_type": "code",
   "execution_count": 4,
   "metadata": {},
   "outputs": [],
   "source": [
    "import ipywidgets as w"
   ]
  },
  {
   "cell_type": "code",
   "execution_count": 5,
   "metadata": {
    "pycharm": {
     "name": "#%%\n"
    }
   },
   "outputs": [
    {
     "data": {
      "text/plain": "VBox(children=(HTML(value='<font size=\"+2\"><b>CARA</b> Covid Calculator</font>'), Text(value='', placeholder='…",
      "application/vnd.jupyter.widget-view+json": {
       "version_major": 2,
       "version_minor": 0,
       "model_id": "b6dfcf9858f24a84bf9bac4918b328a5"
      }
     },
     "metadata": {},
     "output_type": "display_data"
    }
   ],
   "source": [
    "intro = w.VBox(children=(w.HTML(value='<font size=\"+2\"><b>CARA</b> Covid Calculator</font>'),\n",
    "                         w.Text(placeholder=\"Simulation name\"),\n",
    "                         w.Text(placeholder=\"Room number\")))\n",
    "\n",
    "intro"
   ]
  },
  {
   "cell_type": "code",
   "execution_count": 20,
   "metadata": {
    "pycharm": {
     "name": "#%%\n"
    }
   },
   "outputs": [],
   "source": [
    "volume_text = w.Text(placeholder=\"Room volume (m³)\")\n",
    "area_text = w.Text(placeholder=\"Room floor area (m²)\")\n",
    "height_text = w.Text(placeholder=\"Room ceiling height (m²)\")\n",
    "\n",
    "room_dimensions_box = w.VBox(children=(volume_text, w.Label(value=\"------- OR -------\"),area_text, height_text),\n",
    "                             layout=w.Layout(align_items='center'))\n",
    "def manage_text_fields(b):\n",
    "    volume_text.disabled = bool(area_text.value) or bool(height_text.value)\n",
    "    area_text.disabled = bool(volume_text.value)\n",
    "    height_text.disabled = bool(volume_text.value)\n",
    "\n",
    "volume_text.observe(manage_text_fields)\n",
    "area_text.observe(manage_text_fields)\n",
    "height_text.observe(manage_text_fields)"
   ]
  }
 ],
 "metadata": {
  "kernelspec": {
   "display_name": "Python 3",
   "language": "python",
   "name": "python3"
  },
  "language_info": {
   "codemirror_mode": {
    "name": "ipython",
    "version": 3
   },
   "file_extension": ".py",
   "mimetype": "text/x-python",
   "name": "python",
   "nbconvert_exporter": "python",
   "pygments_lexer": "ipython3",
   "version": "3.8.5"
  }
 },
 "nbformat": 4,
 "nbformat_minor": 1
}