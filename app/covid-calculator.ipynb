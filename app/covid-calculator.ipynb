{
 "cells": [
  {
   "cell_type": "code",
   "execution_count": 49,
   "metadata": {},
   "outputs": [],
   "source": [
    "import ipywidgets as w"
   ]
  },
  {
   "cell_type": "code",
   "execution_count": 68,
   "metadata": {
    "pycharm": {
     "name": "#%%\n"
    }
   },
   "outputs": [
    {
     "data": {
      "text/plain": "VBox(children=(HTML(value='<font size=\"+2\"><b>CARA</b> Covid Calculator</font>'), Text(value='', placeholder='…",
      "application/vnd.jupyter.widget-view+json": {
       "version_major": 2,
       "version_minor": 0,
       "model_id": "61c53e6d9b58415097dce93a3a0e96c7"
      }
     },
     "metadata": {},
     "output_type": "display_data"
    }
   ],
   "source": [
    "intro = w.VBox(children=(w.HTML(value='<font size=\"+2\"><b>CARA</b> Covid Calculator</font>'),\n",
    "                         w.Text(placeholder=\"Simulation name\"),\n",
    "                         w.Text(placeholder=\"Room number\")))\n",
    "\n",
    "intro"
   ]
  },
  {
   "cell_type": "code",
   "execution_count": 74,
   "metadata": {
    "pycharm": {
     "name": "#%%\n"
    }
   },
   "outputs": [
    {
     "data": {
      "text/plain": "VBox(children=(Text(value='', placeholder='Room volume (m³)'), Label(value='OR'), Text(value='', placeholder='…",
      "application/vnd.jupyter.widget-view+json": {
       "version_major": 2,
       "version_minor": 0,
       "model_id": "bea9900594a14d078ab222436b922b5e"
      }
     },
     "metadata": {},
     "output_type": "display_data"
    }
   ],
   "source": [
    "volume_text = w.Text(placeholder=\"Room volume (m³)\")\n",
    "area_text = w.Text(placeholder=\"Room floor area (m²)\")\n",
    "height_text = w.Text(placeholder=\"Room ceiling height (m²)\")\n",
    "\n",
    "w.jslink((volume_text, 'value'), (area_text, 'disabled'))\n",
    "w.jslink((volume_text, 'value'), (height_text, 'disabled'))\n",
    "w.jslink((area_text, 'value'), (volume_text, 'disabled'))\n",
    "\n",
    "w.VBox(children=(volume_text, w.Label(value=\"OR\"),area_text, height_text), layout=w.Layout(align_items='center'))"
   ]
  }
 ],
 "metadata": {
  "kernelspec": {
   "display_name": "Python 3",
   "language": "python",
   "name": "python3"
  },
  "language_info": {
   "codemirror_mode": {
    "name": "ipython",
    "version": 3
   },
   "file_extension": ".py",
   "mimetype": "text/x-python",
   "name": "python",
   "nbconvert_exporter": "python",
   "pygments_lexer": "ipython3",
   "version": "3.8.5"
  }
 },
 "nbformat": 4,
 "nbformat_minor": 1
}