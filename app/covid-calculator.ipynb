{
 "cells": [
  {
   "cell_type": "code",
   "execution_count": 2,
   "metadata": {
    "collapsed": true
   },
   "outputs": [],
   "source": [
    "from ipywidgets import Label, Layout, Text, VBox"
   ]
  },
  {
   "cell_type": "code",
   "execution_count": 7,
   "outputs": [
    {
     "data": {
      "text/plain": "VBox(children=(Label(value='CARA Covid Calculator', layout=Layout(width='100%')), Text(value='', description='…",
      "application/vnd.jupyter.widget-view+json": {
       "version_major": 2,
       "version_minor": 0,
       "model_id": "81c2850558b347f0b3040231351aba9f"
      }
     },
     "metadata": {},
     "output_type": "display_data"
    }
   ],
   "source": [
    "title = Label(\"CARA Covid Calculator\")\n",
    "simulation_text = Text(\n",
    "    placeholder=\"E.g. Workshop without masks\",\n",
    "    description=\"Simulation name: \"\n",
    ")\n",
    "room_number_text = Text(\n",
    "    placeholder=\"E.g. 17/R-033\",\n",
    "    description=\"Room number: \"\n",
    ")\n",
    "\n",
    "intro = VBox(\n",
    "    children=(title, simulation_text, room_number_text)\n",
    ")\n",
    "\n",
    "intro\n"
   ],
   "metadata": {
    "collapsed": false,
    "pycharm": {
     "name": "#%%\n"
    }
   }
  }
 ],
 "metadata": {
  "kernelspec": {
   "display_name": "Python 3",
   "language": "python",
   "name": "python3"
  },
  "language_info": {
   "codemirror_mode": {
    "name": "ipython",
    "version": 2
   },
   "file_extension": ".py",
   "mimetype": "text/x-python",
   "name": "python",
   "nbconvert_exporter": "python",
   "pygments_lexer": "ipython2",
   "version": "2.7.6"
  }
 },
 "nbformat": 4,
 "nbformat_minor": 0
}