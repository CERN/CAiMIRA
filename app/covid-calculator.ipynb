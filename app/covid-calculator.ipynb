{
 "cells": [
  {
   "cell_type": "code",
   "execution_count": 1,
   "metadata": {},
   "outputs": [],
   "source": [
    "import ipywidgets as w"
   ]
  },
  {
   "cell_type": "code",
   "execution_count": 2,
   "metadata": {
    "pycharm": {
     "name": "#%%\n"
    }
   },
   "outputs": [],
   "source": [
    "intro_box = w.VBox(children=(w.HTML(value='<font size=\"+2\"><b>CARA</b> Covid Calculator</font>'),\n",
    "                         w.Text(placeholder=\"E.g. Workshop without masks\", description=\"Simulation name:\",\n",
    "                                style={'description_width': '35%'}),\n",
    "                         w.Text(placeholder=\"E.g. 17/R-033\", description=\"Room number:\",\n",
    "                                style={'description_width': '35%'})),\n",
    "                   layout=w.Layout(padding='0px 0px 50px 0px'))"
   ]
  },
  {
   "cell_type": "code",
   "execution_count": 3,
   "metadata": {
    "pycharm": {
     "name": "#%%\n"
    }
   },
   "outputs": [],
   "source": [
    "volume_text = w.Text(placeholder=\"Room volume (m³)\", description=\"Room volume\")\n",
    "area_text = w.Text(placeholder=\"Room floor area (m²)\", description=\"Floor area\")\n",
    "height_text = w.Text(placeholder=\"Room ceiling height (m²)\", description=\"Ceiling height\")\n",
    "\n",
    "room_dimensions_box = w.VBox(children=(volume_text, w.Label(value=\"------- OR -------\"),area_text, height_text),\n",
    "                             layout=w.Layout(padding='0px 0px 50px 0px'))\n",
    "\n",
    "def manage_room_text_fields(_):\n",
    "    volume_text.disabled = bool(area_text.value) or bool(height_text.value)\n",
    "    area_text.disabled = bool(volume_text.value)\n",
    "    height_text.disabled = bool(volume_text.value)\n",
    "\n",
    "for text in [volume_text, area_text, height_text]:\n",
    "    text.observe(manage_room_text_fields)\n",
    "    text.style.description_width = \"auto\"\n",
    "\n",
    "volume_text.observe(manage_room_text_fields)\n",
    "area_text.observe(manage_room_text_fields)\n",
    "height_text.observe(manage_room_text_fields)"
   ]
  },
  {
   "cell_type": "code",
   "execution_count": 197,
   "metadata": {
    "pycharm": {
     "name": "#%%\n"
    }
   },
   "outputs": [],
   "source": [
    "ventilation_label = w.Label(\"Ventilation type:\")\n",
    "mechanical_button = w.ToggleButton(value=False, description='Mechanical', layout={'width': 'auto'})\n",
    "natural_button = w.ToggleButton(value=False, description='Natural', layout={'width': 'auto'})\n",
    "\n",
    "acph_text = w.Text(description=\"Air changes per hour\", style={'description_width': 'auto'})\n",
    "asfr_text = w.Text(description=\"Air supply flow rate\", style={'description_width': 'auto'})\n",
    "\n",
    "w.jsdlink((acph_text, 'value'), (asfr_text, 'disabled'))\n",
    "w.jsdlink((asfr_text, 'value'), (acph_text, 'disabled'))\n",
    "\n",
    "mech_vent_box = w.VBox(\n",
    "    children=(acph_text, w.Label(value=\"------- OR -------\"), asfr_text),\n",
    "    layout=w.Layout(display='none')\n",
    ")\n",
    "\n",
    "nat_vent_box = w.VBox(\n",
    "    children=(\n",
    "        w.Text(description='Number of windows:', style={'description_width': 'auto'}),\n",
    "        w.Text(description='Height of window:', placeholder='meters', style={'description_width': 'auto'}),\n",
    "        w.Text(description='Width of window:', placeholder='meters', style={'description_width': 'auto'}),\n",
    "        w.Text(description='Opening distance:', placeholder='centimeters', style={'description_width': 'auto'}),\n",
    "        w.HBox(children=(\n",
    "            w.Label('Windows open'),\n",
    "            w.RadioButtons(options=('Always', '15 min / 2h'))\n",
    "        ))\n",
    "    ),\n",
    "    layout=w.Layout(display='none'),\n",
    ")\n",
    "\n",
    "\n",
    "\n",
    "tab_bar = w.HBox(children=(mechanical_button, natural_button))\n",
    "ventilation_type_menu = w.VBox(children=(ventilation_label, tab_bar), layout=w.Layout(padding='0px 0px 20px 0px'))\n",
    "ventilation_box = w.VBox(children=(ventilation_type_menu, mech_vent_box, nat_vent_box),\n",
    "                         layout=w.Layout(padding='0px 0px 50px 0px'))\n",
    "\n",
    "def handle_natural_toggle(_):\n",
    "    if natural_button.value:\n",
    "        mechanical_button.value = False\n",
    "        ventilation_box.children[2].layout.display = 'block'\n",
    "    else:\n",
    "        ventilation_box.children[2].layout.display = 'none'\n",
    "\n",
    "def handle_mechanical_toggle(_):\n",
    "    if mechanical_button.value:\n",
    "        natural_button.value = False\n",
    "        ventilation_box.children[1].layout.display = 'block'\n",
    "    else:\n",
    "        ventilation_box.children[1].layout.display = 'none'\n",
    "\n",
    "natural_button.observe(handle_natural_toggle)\n",
    "mechanical_button.observe(handle_mechanical_toggle)"
   ]
  },
  {
   "cell_type": "code",
   "execution_count": 196,
   "metadata": {
    "pycharm": {
     "name": "#%%\n"
    }
   },
   "outputs": [
    {
     "data": {
      "text/plain": "VBox(children=(VBox(children=(HTML(value='<font size=\"+2\"><b>CARA</b> Covid Calculator</font>'), Text(value=''…",
      "application/vnd.jupyter.widget-view+json": {
       "version_major": 2,
       "version_minor": 0,
       "model_id": "06f418553b6d45448e35303e41b1ebb7"
      }
     },
     "metadata": {},
     "output_type": "display_data"
    }
   ],
   "source": [
    "w.VBox(children=(intro_box, room_dimensions_box, ventilation_box))"
   ]
  }
 ],
 "metadata": {
  "kernelspec": {
   "display_name": "Python 3",
   "language": "python",
   "name": "python3"
  },
  "language_info": {
   "codemirror_mode": {
    "name": "ipython",
    "version": 3
   },
   "file_extension": ".py",
   "mimetype": "text/x-python",
   "name": "python",
   "nbconvert_exporter": "python",
   "pygments_lexer": "ipython3",
   "version": "3.8.5"
  }
 },
 "nbformat": 4,
 "nbformat_minor": 1
}